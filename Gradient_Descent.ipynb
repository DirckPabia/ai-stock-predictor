{
 "cells": [
  {
   "cell_type": "code",
   "execution_count": 2,
   "id": "6296856f-00a5-4afa-ac15-fdab0764c302",
   "metadata": {},
   "outputs": [
    {
     "name": "stdout",
     "output_type": "stream",
     "text": [
      "Iteration 1 \n",
      "X value is 3.0\n",
      "Iteration 2 \n",
      "X value is 1.4\n",
      "Iteration 3 \n",
      "X value is 0.11999999999999966\n",
      "Iteration 4 \n",
      "X value is -0.9040000000000001\n",
      "Iteration 5 \n",
      "X value is -1.7232000000000003\n",
      "Iteration 6 \n",
      "X value is -2.3785600000000002\n",
      "Iteration 7 \n",
      "X value is -2.902848\n",
      "Iteration 8 \n",
      "X value is -3.3222784\n",
      "The local minimum occurs at -3.3222784\n"
     ]
    }
   ],
   "source": [
    "cur_x = 5 # the algorithm starts at x=3\n",
    "\n",
    "rate = 0.1 # learning rate\n",
    "\n",
    "precision = 0.5 # this tells us when to stop the algorithm\n",
    "previouse_step_size = 1 #\n",
    "max_iter = 1000000 # max iterations\n",
    "iters = 0 # iteration counter\n",
    "\n",
    "df = lambda x: 2*(x+5) # Gradient of our function\n",
    "\n",
    "while previouse_step_size > precision and iters <max_iter:\n",
    "    prev_x = cur_x # Store current x value in prev_x\n",
    "    cur_x = cur_x - rate * df(prev_x) # Grad Descent\n",
    "    previouse_step_size = abs(cur_x-prev_x) # Change in x \n",
    "    iters = iters + 1 #iteration count\n",
    "    print(\"Iteration\",iters,\"\\nX value is\", cur_x) #prnt iterations\n",
    "\n",
    "print(\"The local minimum occurs at\",cur_x)"
   ]
  },
  {
   "cell_type": "code",
   "execution_count": null,
   "id": "52f455b1-7ac3-4220-a907-acdc011207a0",
   "metadata": {},
   "outputs": [],
   "source": []
  }
 ],
 "metadata": {
  "kernelspec": {
   "display_name": "Python 3 (ipykernel)",
   "language": "python",
   "name": "python3"
  },
  "language_info": {
   "codemirror_mode": {
    "name": "ipython",
    "version": 3
   },
   "file_extension": ".py",
   "mimetype": "text/x-python",
   "name": "python",
   "nbconvert_exporter": "python",
   "pygments_lexer": "ipython3",
   "version": "3.12.1"
  }
 },
 "nbformat": 4,
 "nbformat_minor": 5
}
